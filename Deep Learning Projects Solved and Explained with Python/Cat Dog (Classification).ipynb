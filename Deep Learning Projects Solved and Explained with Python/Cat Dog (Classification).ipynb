{
 "cells": [
  {
   "cell_type": "markdown",
   "metadata": {},
   "source": [
    "### Importing Libraries"
   ]
  },
  {
   "cell_type": "code",
   "execution_count": 1,
   "metadata": {},
   "outputs": [],
   "source": [
    "import tensorflow as tf\n",
    "from keras_preprocessing.image import ImageDataGenerator"
   ]
  },
  {
   "cell_type": "markdown",
   "metadata": {},
   "source": [
    "### Step 1 ==> Data Preprocessing"
   ]
  },
  {
   "cell_type": "markdown",
   "metadata": {},
   "source": [
    "#### Preprocessing Training Set"
   ]
  },
  {
   "cell_type": "code",
   "execution_count": 2,
   "metadata": {},
   "outputs": [],
   "source": [
    "# We need to apply some transformation to all the images of Training set\n",
    "# Applying Transformations to avoid overfitting"
   ]
  },
  {
   "cell_type": "code",
   "execution_count": 3,
   "metadata": {},
   "outputs": [],
   "source": [
    "# Applying some geometrical transformations\n",
    "# Image augmentation\n",
    "# rescale : Basically Feature Scaling (to get pixels between [0,1])\n",
    "# Shear_range means that the image will be distorted along an axis, mostly to create or rectify the perception angles.\n",
    "# \n",
    "\n",
    "train_datagen = ImageDataGenerator(rescale=1./255,\n",
    "                                   shear_range=0.2,\n",
    "                                   zoom_range=0.2,\n",
    "                                   horizontal_flip=True)"
   ]
  },
  {
   "cell_type": "code",
   "execution_count": 4,
   "metadata": {},
   "outputs": [
    {
     "name": "stdout",
     "output_type": "stream",
     "text": [
      "Found 8000 images belonging to 2 classes.\n"
     ]
    }
   ],
   "source": [
    "training_dataset = train_datagen.flow_from_directory('C:\\\\Users\\\\charl\\\\Desktop\\\\Study\\\\DataScience\\\\Deep Learning\\\\Section 40 - Convolutional Neural Networks (CNN)\\\\dataset\\\\training_set',\n",
    "                                                    target_size=(64, 64),\n",
    "                                                    batch_size=32,\n",
    "                                                    class_mode='binary')                                      "
   ]
  },
  {
   "cell_type": "markdown",
   "metadata": {},
   "source": [
    "#### Preprocessing Test Set"
   ]
  },
  {
   "cell_type": "code",
   "execution_count": 5,
   "metadata": {},
   "outputs": [],
   "source": [
    "test_datagen = ImageDataGenerator(rescale=1./255)"
   ]
  },
  {
   "cell_type": "code",
   "execution_count": 6,
   "metadata": {},
   "outputs": [
    {
     "name": "stdout",
     "output_type": "stream",
     "text": [
      "Found 2000 images belonging to 2 classes.\n"
     ]
    }
   ],
   "source": [
    "testing_dataset = test_datagen.flow_from_directory('C:\\\\Users\\\\charl\\\\Desktop\\\\Study\\\\DataScience\\\\Deep Learning\\\\Section 40 - Convolutional Neural Networks (CNN)\\\\dataset\\\\test_set',\n",
    "                                                    target_size=(64, 64),\n",
    "                                                    batch_size=32,\n",
    "                                                    class_mode='binary')                                      "
   ]
  },
  {
   "cell_type": "markdown",
   "metadata": {},
   "source": [
    "### Part 2 ==> Building the CNN"
   ]
  },
  {
   "cell_type": "markdown",
   "metadata": {},
   "source": [
    "#### Initialising the CNN"
   ]
  },
  {
   "cell_type": "code",
   "execution_count": 7,
   "metadata": {},
   "outputs": [],
   "source": [
    "cnn = tf.keras.models.Sequential()"
   ]
  },
  {
   "cell_type": "markdown",
   "metadata": {},
   "source": [
    "### Step 1 ==> Convolution"
   ]
  },
  {
   "cell_type": "markdown",
   "metadata": {},
   "source": [
    "### Conv2D\n",
    "\n",
    "The most common type of convolution that is used is the 2D convolution layer, and is usually abbreviated as conv2D. A filter or a kernel in a conv2D layer has a height and a width. They are generally smaller than the input image and so we move them across the whole image.\n",
    "\n",
    "\n",
    "### filters\n",
    "\n",
    "The Keras Conv2D parameter, filters determines the number of kernels to convolve with the input volume. Each of these operations produces a 2D activation map. The first required Conv2D parameter is the number of. filters\n",
    "\n",
    "#### Kernel Size\n",
    "\n",
    "The metrix size"
   ]
  },
  {
   "cell_type": "code",
   "execution_count": 8,
   "metadata": {},
   "outputs": [],
   "source": [
    "cnn.add(tf.keras.layers.Conv2D(filters=32, kernel_size=3, activation=\"relu\", input_shape=[64, 64, 3]))                         "
   ]
  },
  {
   "cell_type": "markdown",
   "metadata": {},
   "source": [
    "### Step 2 ==> Pooling"
   ]
  },
  {
   "cell_type": "markdown",
   "metadata": {},
   "source": [
    "#### MaxPool2D\n",
    "\n",
    "Applies a 2D max pooling over an input signal composed of several input planes. If padding is non-zero, then the input is implicitly zero-padded on both sides for padding number of points.\n",
    "\n",
    "#### pool_size\n",
    "\n",
    "pool_size: integer or tuple of 2 integers, window size over which to take the maximum. (2, 2) will take the max value over a 2x2 pooling window. If only one integer is specified, the same window length will be used for both dimensions.\n",
    "\n",
    "#### strides\n",
    "\n",
    "Strides values. Specifies how far the pooling window moves for each pooling step. If None, it will default to pool_size . One of \"valid\" or \"same\" (case-insensitive)."
   ]
  },
  {
   "cell_type": "code",
   "execution_count": 9,
   "metadata": {},
   "outputs": [],
   "source": [
    "cnn.add(tf.keras.layers.MaxPool2D(pool_size=2, strides=2))"
   ]
  },
  {
   "cell_type": "markdown",
   "metadata": {},
   "source": [
    "### Adding a second convolutional Layer"
   ]
  },
  {
   "cell_type": "code",
   "execution_count": 10,
   "metadata": {},
   "outputs": [],
   "source": [
    "cnn.add(tf.keras.layers.Conv2D(filters=32, kernel_size=3, activation=\"relu\"))\n",
    "cnn.add(tf.keras.layers.MaxPool2D(pool_size=2, strides=2))"
   ]
  },
  {
   "cell_type": "markdown",
   "metadata": {},
   "source": [
    "### Step 3 ==> Flattening"
   ]
  },
  {
   "cell_type": "code",
   "execution_count": 11,
   "metadata": {},
   "outputs": [],
   "source": [
    "cnn.add(tf.keras.layers.Flatten())"
   ]
  },
  {
   "cell_type": "markdown",
   "metadata": {},
   "source": [
    "### Step 4 ==> Full Connection"
   ]
  },
  {
   "cell_type": "code",
   "execution_count": 12,
   "metadata": {},
   "outputs": [],
   "source": [
    "# 128 neurons\n",
    "cnn.add(tf.keras.layers.Dense(units=128, activation=\"relu\"))"
   ]
  },
  {
   "cell_type": "markdown",
   "metadata": {},
   "source": [
    "### Step 5 ==> Output Layer"
   ]
  },
  {
   "cell_type": "code",
   "execution_count": 13,
   "metadata": {},
   "outputs": [],
   "source": [
    "cnn.add(tf.keras.layers.Dense(units=1, activation=\"sigmoid\"))"
   ]
  },
  {
   "cell_type": "markdown",
   "metadata": {},
   "source": [
    "## Training the CNN"
   ]
  },
  {
   "cell_type": "markdown",
   "metadata": {},
   "source": [
    "### Compling the CNN"
   ]
  },
  {
   "cell_type": "code",
   "execution_count": 14,
   "metadata": {},
   "outputs": [],
   "source": [
    "cnn.compile(optimizer = \"adam\", loss = \"binary_crossentropy\", metrics = [\"accuracy\"])"
   ]
  },
  {
   "cell_type": "markdown",
   "metadata": {},
   "source": [
    "### Training the CNN on Training set and Evaluating it on Test set"
   ]
  },
  {
   "cell_type": "code",
   "execution_count": 15,
   "metadata": {},
   "outputs": [
    {
     "name": "stdout",
     "output_type": "stream",
     "text": [
      "Epoch 1/25\n",
      "250/250 [==============================] - 395s 2s/step - loss: 0.6700 - accuracy: 0.5820 - val_loss: 0.6246 - val_accuracy: 0.6505\n",
      "Epoch 2/25\n",
      "250/250 [==============================] - 69s 275ms/step - loss: 0.5995 - accuracy: 0.6787 - val_loss: 0.5541 - val_accuracy: 0.7210\n",
      "Epoch 3/25\n",
      "250/250 [==============================] - 72s 290ms/step - loss: 0.5609 - accuracy: 0.7089 - val_loss: 0.5219 - val_accuracy: 0.7475\n",
      "Epoch 4/25\n",
      "250/250 [==============================] - 70s 282ms/step - loss: 0.5280 - accuracy: 0.7321 - val_loss: 0.5175 - val_accuracy: 0.7430\n",
      "Epoch 5/25\n",
      "250/250 [==============================] - 81s 324ms/step - loss: 0.5006 - accuracy: 0.7546 - val_loss: 0.4845 - val_accuracy: 0.7660\n",
      "Epoch 6/25\n",
      "250/250 [==============================] - 79s 316ms/step - loss: 0.4868 - accuracy: 0.7659 - val_loss: 0.4801 - val_accuracy: 0.7665\n",
      "Epoch 7/25\n",
      "250/250 [==============================] - 73s 294ms/step - loss: 0.4701 - accuracy: 0.7754 - val_loss: 0.4731 - val_accuracy: 0.7715\n",
      "Epoch 8/25\n",
      "250/250 [==============================] - 67s 270ms/step - loss: 0.4562 - accuracy: 0.7809 - val_loss: 0.5069 - val_accuracy: 0.7615\n",
      "Epoch 9/25\n",
      "250/250 [==============================] - 63s 252ms/step - loss: 0.4431 - accuracy: 0.7926 - val_loss: 0.4570 - val_accuracy: 0.7945\n",
      "Epoch 10/25\n",
      "250/250 [==============================] - 70s 280ms/step - loss: 0.4344 - accuracy: 0.7950 - val_loss: 0.4893 - val_accuracy: 0.7680\n",
      "Epoch 11/25\n",
      "250/250 [==============================] - 66s 263ms/step - loss: 0.4226 - accuracy: 0.8031 - val_loss: 0.5005 - val_accuracy: 0.7680\n",
      "Epoch 12/25\n",
      "250/250 [==============================] - 74s 295ms/step - loss: 0.4173 - accuracy: 0.8036 - val_loss: 0.5107 - val_accuracy: 0.7690\n",
      "Epoch 13/25\n",
      "250/250 [==============================] - 68s 272ms/step - loss: 0.4055 - accuracy: 0.8100 - val_loss: 0.4958 - val_accuracy: 0.7825\n",
      "Epoch 14/25\n",
      "250/250 [==============================] - 68s 272ms/step - loss: 0.3915 - accuracy: 0.8196 - val_loss: 0.4781 - val_accuracy: 0.7850\n",
      "Epoch 15/25\n",
      "250/250 [==============================] - 71s 285ms/step - loss: 0.3732 - accuracy: 0.8317 - val_loss: 0.4524 - val_accuracy: 0.8060\n",
      "Epoch 16/25\n",
      "250/250 [==============================] - 70s 278ms/step - loss: 0.3690 - accuracy: 0.8324 - val_loss: 0.4520 - val_accuracy: 0.8005\n",
      "Epoch 17/25\n",
      "250/250 [==============================] - 68s 270ms/step - loss: 0.3572 - accuracy: 0.8380 - val_loss: 0.4636 - val_accuracy: 0.7880\n",
      "Epoch 18/25\n",
      "250/250 [==============================] - 68s 271ms/step - loss: 0.3515 - accuracy: 0.8410 - val_loss: 0.4507 - val_accuracy: 0.8045\n",
      "Epoch 19/25\n",
      "250/250 [==============================] - 65s 259ms/step - loss: 0.3344 - accuracy: 0.8530 - val_loss: 0.5489 - val_accuracy: 0.7705\n",
      "Epoch 20/25\n",
      "250/250 [==============================] - 66s 266ms/step - loss: 0.3252 - accuracy: 0.8564 - val_loss: 0.6134 - val_accuracy: 0.7495\n",
      "Epoch 21/25\n",
      "250/250 [==============================] - 67s 270ms/step - loss: 0.3211 - accuracy: 0.8574 - val_loss: 0.4716 - val_accuracy: 0.8030\n",
      "Epoch 22/25\n",
      "250/250 [==============================] - 65s 260ms/step - loss: 0.2956 - accuracy: 0.8766 - val_loss: 0.4594 - val_accuracy: 0.8175\n",
      "Epoch 23/25\n",
      "250/250 [==============================] - 72s 286ms/step - loss: 0.2959 - accuracy: 0.8741 - val_loss: 0.4555 - val_accuracy: 0.8150\n",
      "Epoch 24/25\n",
      "250/250 [==============================] - 65s 259ms/step - loss: 0.2886 - accuracy: 0.8725 - val_loss: 0.5322 - val_accuracy: 0.7920\n",
      "Epoch 25/25\n",
      "250/250 [==============================] - 71s 285ms/step - loss: 0.2738 - accuracy: 0.8835 - val_loss: 0.4628 - val_accuracy: 0.8285\n"
     ]
    },
    {
     "data": {
      "text/plain": [
       "<tensorflow.python.keras.callbacks.History at 0x1c1be510790>"
      ]
     },
     "execution_count": 15,
     "metadata": {},
     "output_type": "execute_result"
    }
   ],
   "source": [
    "cnn.fit(x=training_dataset, validation_data=testing_dataset, epochs=25)                    "
   ]
  },
  {
   "cell_type": "markdown",
   "metadata": {},
   "source": [
    "### Step 4 ==> Making a Single Prediction"
   ]
  },
  {
   "cell_type": "code",
   "execution_count": 16,
   "metadata": {},
   "outputs": [],
   "source": [
    "# importing numpy\n",
    "import numpy as np\n",
    "# importing image module\n",
    "from keras_preprocessing import image"
   ]
  },
  {
   "cell_type": "code",
   "execution_count": 18,
   "metadata": {},
   "outputs": [],
   "source": [
    "test_image = image.load_img(\"C:\\\\Users\\\\charl\\\\Desktop\\\\Study\\\\DataScience\\\\Deep Learning\\\\Section 40 - Convolutional Neural Networks (CNN)\\\\dataset\\\\single_prediction\\\\cat_or_dog_1.jpg\",target_size=(64, 64))\n",
    "# Convert to an 2d array\n",
    "test_image = image.img_to_array(test_image)\n",
    "# Adding an extra demension\n",
    "test_image = np.expand_dims(test_image, axis = 0)\n",
    "# results\n",
    "result = cnn.predict(test_image/255.0)\n",
    "# Encoding the image 1 ==> dog, 0 ==> Cat\n",
    "training_dataset.class_indices\n",
    "\n",
    "if result[0][0] > 0.5:\n",
    "    \n",
    "    prediction = \"Dog\"\n",
    "    \n",
    "else:\n",
    "    \n",
    "    prediction = \"Cat\""
   ]
  },
  {
   "cell_type": "code",
   "execution_count": 19,
   "metadata": {},
   "outputs": [
    {
     "name": "stdout",
     "output_type": "stream",
     "text": [
      "Dog\n"
     ]
    }
   ],
   "source": [
    "print(prediction)"
   ]
  },
  {
   "cell_type": "markdown",
   "metadata": {},
   "source": [
    "### Perfect Predicion for dog"
   ]
  },
  {
   "cell_type": "code",
   "execution_count": 20,
   "metadata": {},
   "outputs": [],
   "source": [
    "test_image = image.load_img(\"C:\\\\Users\\\\charl\\\\Desktop\\\\Study\\\\DataScience\\\\Deep Learning\\\\Section 40 - Convolutional Neural Networks (CNN)\\\\dataset\\\\single_prediction\\\\cat_or_dog_2.jpg\",target_size=(64, 64))\n",
    "# Convert to an 2d array\n",
    "test_image = image.img_to_array(test_image)\n",
    "# Adding an extra demension\n",
    "test_image = np.expand_dims(test_image, axis = 0)\n",
    "# results\n",
    "result = cnn.predict(test_image/255.0)\n",
    "# Encoding the image 1 ==> dog, 0 ==> Cat\n",
    "training_dataset.class_indices\n",
    "\n",
    "if result[0][0] > 0.5:\n",
    "    \n",
    "    prediction = \"Dog\"\n",
    "    \n",
    "else:\n",
    "    \n",
    "    prediction = \"Cat\""
   ]
  },
  {
   "cell_type": "code",
   "execution_count": 21,
   "metadata": {},
   "outputs": [
    {
     "name": "stdout",
     "output_type": "stream",
     "text": [
      "Cat\n"
     ]
    }
   ],
   "source": [
    "print(prediction)"
   ]
  },
  {
   "cell_type": "markdown",
   "metadata": {},
   "source": [
    "### Perfect Predicion for Cat"
   ]
  }
 ],
 "metadata": {
  "kernelspec": {
   "display_name": "Python 3",
   "language": "python",
   "name": "python3"
  },
  "language_info": {
   "codemirror_mode": {
    "name": "ipython",
    "version": 3
   },
   "file_extension": ".py",
   "mimetype": "text/x-python",
   "name": "python",
   "nbconvert_exporter": "python",
   "pygments_lexer": "ipython3",
   "version": "3.8.5"
  }
 },
 "nbformat": 4,
 "nbformat_minor": 4
}
