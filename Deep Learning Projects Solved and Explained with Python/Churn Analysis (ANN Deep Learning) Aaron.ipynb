{
 "cells": [
  {
   "cell_type": "markdown",
   "metadata": {
    "colab_type": "text",
    "id": "lP6JLo1tGNBg"
   },
   "source": [
    "# Artificial Neural Network"
   ]
  },
  {
   "cell_type": "markdown",
   "metadata": {
    "colab_type": "text",
    "id": "gWZyYmS_UE_L"
   },
   "source": [
    "### Importing the libraries"
   ]
  },
  {
   "cell_type": "code",
   "execution_count": 1,
   "metadata": {
    "colab": {},
    "colab_type": "code",
    "id": "MxkJoQBkUIHC"
   },
   "outputs": [],
   "source": [
    "import numpy as np\n",
    "import pandas as pd\n",
    "import tensorflow as tf"
   ]
  },
  {
   "cell_type": "code",
   "execution_count": 2,
   "metadata": {
    "colab": {
     "base_uri": "https://localhost:8080/",
     "height": 34
    },
    "colab_type": "code",
    "id": "ZaTwK7ojXr2F",
    "outputId": "0b27a96d-d11a-43e8-ab4b-87c1f01896fe"
   },
   "outputs": [
    {
     "data": {
      "text/plain": [
       "'2.3.1'"
      ]
     },
     "execution_count": 2,
     "metadata": {},
     "output_type": "execute_result"
    }
   ],
   "source": [
    "tf.__version__"
   ]
  },
  {
   "cell_type": "markdown",
   "metadata": {},
   "source": [
    "### Code to display rows and column borders"
   ]
  },
  {
   "cell_type": "code",
   "execution_count": 3,
   "metadata": {},
   "outputs": [
    {
     "data": {
      "text/html": [
       "<style type=\"text/css\">\n",
       "table.dataframe td, table.dataframe th {\n",
       "    border: 1px  black solid !important;\n",
       "  color: black !important;\n",
       "}\n",
       "</style>\n"
      ],
      "text/plain": [
       "<IPython.core.display.HTML object>"
      ]
     },
     "metadata": {},
     "output_type": "display_data"
    }
   ],
   "source": [
    "%%HTML\n",
    "<style type=\"text/css\">\n",
    "table.dataframe td, table.dataframe th {\n",
    "    border: 1px  black solid !important;\n",
    "  color: black !important;\n",
    "}\n",
    "</style>"
   ]
  },
  {
   "cell_type": "markdown",
   "metadata": {},
   "source": [
    "### Code to display all the columns in the dataset"
   ]
  },
  {
   "cell_type": "code",
   "execution_count": 4,
   "metadata": {},
   "outputs": [],
   "source": [
    "pd.set_option('display.max_columns', None)"
   ]
  },
  {
   "cell_type": "markdown",
   "metadata": {},
   "source": [
    "### Code to hide warnings"
   ]
  },
  {
   "cell_type": "code",
   "execution_count": 5,
   "metadata": {},
   "outputs": [],
   "source": [
    "import warnings\n",
    "warnings.filterwarnings('ignore')"
   ]
  },
  {
   "cell_type": "markdown",
   "metadata": {
    "colab_type": "text",
    "id": "cKWAkFVGUU0Z"
   },
   "source": [
    "### Importing the dataset"
   ]
  },
  {
   "cell_type": "code",
   "execution_count": 6,
   "metadata": {
    "colab": {},
    "colab_type": "code",
    "id": "MXUkhkMfU4wq"
   },
   "outputs": [],
   "source": [
    "dataset = pd.read_csv('Churn_Modelling.csv')\n",
    "X = dataset.iloc[:, 3:-1].values\n",
    "y = dataset.iloc[:, -1].values"
   ]
  },
  {
   "cell_type": "code",
   "execution_count": 7,
   "metadata": {
    "colab": {
     "base_uri": "https://localhost:8080/",
     "height": 137
    },
    "colab_type": "code",
    "id": "VYP9cQTWbzuI",
    "outputId": "797e7a64-9bac-436a-8c9c-94437e5e7587"
   },
   "outputs": [
    {
     "name": "stdout",
     "output_type": "stream",
     "text": [
      "[[619 'France' 'Female' ... 1 1 101348.88]\n",
      " [608 'Spain' 'Female' ... 0 1 112542.58]\n",
      " [502 'France' 'Female' ... 1 0 113931.57]\n",
      " ...\n",
      " [709 'France' 'Female' ... 0 1 42085.58]\n",
      " [772 'Germany' 'Male' ... 1 0 92888.52]\n",
      " [792 'France' 'Female' ... 1 0 38190.78]]\n"
     ]
    }
   ],
   "source": [
    "print(X)"
   ]
  },
  {
   "cell_type": "code",
   "execution_count": 8,
   "metadata": {
    "colab": {
     "base_uri": "https://localhost:8080/",
     "height": 34
    },
    "colab_type": "code",
    "id": "38vKGE6Nb2RR",
    "outputId": "a815e42a-e0dd-4cb5-ab97-b17ead98fbc3"
   },
   "outputs": [
    {
     "name": "stdout",
     "output_type": "stream",
     "text": [
      "[1 0 1 ... 1 1 0]\n"
     ]
    }
   ],
   "source": [
    "print(y)"
   ]
  },
  {
   "cell_type": "markdown",
   "metadata": {
    "colab_type": "text",
    "id": "N6bQ0UgSU-NJ"
   },
   "source": [
    "### Encoding categorical data"
   ]
  },
  {
   "cell_type": "markdown",
   "metadata": {
    "colab_type": "text",
    "id": "le5MJreAbW52"
   },
   "source": [
    "Label Encoding the \"Gender\" column"
   ]
  },
  {
   "cell_type": "code",
   "execution_count": 9,
   "metadata": {
    "colab": {},
    "colab_type": "code",
    "id": "PxVKWXxLbczC"
   },
   "outputs": [],
   "source": [
    "from sklearn.preprocessing import LabelEncoder\n",
    "le = LabelEncoder()\n",
    "X[:, 2] = le.fit_transform(X[:, 2])"
   ]
  },
  {
   "cell_type": "code",
   "execution_count": 10,
   "metadata": {
    "colab": {
     "base_uri": "https://localhost:8080/",
     "height": 137
    },
    "colab_type": "code",
    "id": "-M1KboxFb6OO",
    "outputId": "e2b8c7e8-0cbc-4cdf-f4eb-7f0853a00b88"
   },
   "outputs": [
    {
     "name": "stdout",
     "output_type": "stream",
     "text": [
      "[[619 'France' 0 ... 1 1 101348.88]\n",
      " [608 'Spain' 0 ... 0 1 112542.58]\n",
      " [502 'France' 0 ... 1 0 113931.57]\n",
      " ...\n",
      " [709 'France' 0 ... 0 1 42085.58]\n",
      " [772 'Germany' 1 ... 1 0 92888.52]\n",
      " [792 'France' 0 ... 1 0 38190.78]]\n"
     ]
    }
   ],
   "source": [
    "print(X)"
   ]
  },
  {
   "cell_type": "markdown",
   "metadata": {
    "colab_type": "text",
    "id": "CUxGZezpbMcb"
   },
   "source": [
    "One Hot Encoding the \"Geography\" column"
   ]
  },
  {
   "cell_type": "code",
   "execution_count": 11,
   "metadata": {
    "colab": {},
    "colab_type": "code",
    "id": "AMXC8-KMVirw"
   },
   "outputs": [],
   "source": [
    "from sklearn.compose import ColumnTransformer\n",
    "from sklearn.preprocessing import OneHotEncoder\n",
    "ct = ColumnTransformer(transformers=[('encoder', OneHotEncoder(), [1])], remainder='passthrough')\n",
    "X = np.array(ct.fit_transform(X))"
   ]
  },
  {
   "cell_type": "code",
   "execution_count": 12,
   "metadata": {
    "colab": {
     "base_uri": "https://localhost:8080/",
     "height": 137
    },
    "colab_type": "code",
    "id": "ZcxwEon-b8nV",
    "outputId": "23a98af4-5e33-4b26-c27b-f06e3c5d2baf"
   },
   "outputs": [
    {
     "name": "stdout",
     "output_type": "stream",
     "text": [
      "[[1.0 0.0 0.0 ... 1 1 101348.88]\n",
      " [0.0 0.0 1.0 ... 0 1 112542.58]\n",
      " [1.0 0.0 0.0 ... 1 0 113931.57]\n",
      " ...\n",
      " [1.0 0.0 0.0 ... 0 1 42085.58]\n",
      " [0.0 1.0 0.0 ... 1 0 92888.52]\n",
      " [1.0 0.0 0.0 ... 1 0 38190.78]]\n"
     ]
    }
   ],
   "source": [
    "print(X)"
   ]
  },
  {
   "cell_type": "markdown",
   "metadata": {
    "colab_type": "text",
    "id": "vHol938cW8zd"
   },
   "source": [
    "### Splitting the dataset into the Training set and Test set"
   ]
  },
  {
   "cell_type": "code",
   "execution_count": 13,
   "metadata": {
    "colab": {},
    "colab_type": "code",
    "id": "Z-TDt0Y_XEfc"
   },
   "outputs": [],
   "source": [
    "from sklearn.model_selection import train_test_split\n",
    "X_train, X_test, y_train, y_test = train_test_split(X, y, test_size = 0.2, random_state = 0)"
   ]
  },
  {
   "cell_type": "markdown",
   "metadata": {
    "colab_type": "text",
    "id": "RE_FcHyfV3TQ"
   },
   "source": [
    "### Feature Scaling"
   ]
  },
  {
   "cell_type": "code",
   "execution_count": 14,
   "metadata": {
    "colab": {},
    "colab_type": "code",
    "id": "ViCrE00rV8Sk"
   },
   "outputs": [],
   "source": [
    "from sklearn.preprocessing import StandardScaler\n",
    "sc = StandardScaler()\n",
    "X_train = sc.fit_transform(X_train)\n",
    "X_test = sc.transform(X_test)"
   ]
  },
  {
   "cell_type": "markdown",
   "metadata": {
    "colab_type": "text",
    "id": "-zfEzkRVXIwF"
   },
   "source": [
    "## Part 2 - Building the ANN"
   ]
  },
  {
   "cell_type": "markdown",
   "metadata": {
    "colab_type": "text",
    "id": "KvdeScabXtlB"
   },
   "source": [
    "### Initializing the ANN"
   ]
  },
  {
   "cell_type": "markdown",
   "metadata": {},
   "source": [
    "- Initializing the Sequential layer\n",
    "\n",
    "\n",
    "\n",
    "- It can be used across a range of tasks but has a particular focus on training and inference of deep neural networks.\n",
    "\n",
    "\n",
    "\n",
    "- Keras is a neural network library\n",
    "\n",
    "\n",
    "\n",
    "- A model is the basic data structure of Keras. Keras models define how to organize layers.\n",
    "\n",
    "\n",
    "\n",
    "- A Sequential model is appropriate for a plain stack of layers where each layer has exactly one input tensor and one output tensor."
   ]
  },
  {
   "cell_type": "code",
   "execution_count": 15,
   "metadata": {
    "colab": {},
    "colab_type": "code",
    "id": "3dtrScHxXQox"
   },
   "outputs": [],
   "source": [
    "ann = tf.keras.models.Sequential()"
   ]
  },
  {
   "cell_type": "markdown",
   "metadata": {},
   "source": [
    "- Dense layer is the regular deeply connected neural network layer. It is most common and frequently used layer.\n",
    "\n",
    "\n",
    "- The rectified linear activation function or ReLU for short is a piecewise linear function that will output the input directly if it is positive, otherwise, it will output zero. It has become the default activation function for many types of neural networks because a model that uses it is easier to train and often achieves better performance."
   ]
  },
  {
   "cell_type": "markdown",
   "metadata": {
    "colab_type": "text",
    "id": "rP6urV6SX7kS"
   },
   "source": [
    "### Adding the input layer and the first hidden layer"
   ]
  },
  {
   "cell_type": "code",
   "execution_count": 16,
   "metadata": {
    "colab": {},
    "colab_type": "code",
    "id": "bppGycBXYCQr"
   },
   "outputs": [],
   "source": [
    "ann.add(tf.keras.layers.Dense(units=6, activation='relu'))"
   ]
  },
  {
   "cell_type": "markdown",
   "metadata": {
    "colab_type": "text",
    "id": "BELWAc_8YJze"
   },
   "source": [
    "### Adding the second hidden layer"
   ]
  },
  {
   "cell_type": "code",
   "execution_count": 17,
   "metadata": {
    "colab": {},
    "colab_type": "code",
    "id": "JneR0u0sYRTd"
   },
   "outputs": [],
   "source": [
    "ann.add(tf.keras.layers.Dense(units=6, activation='relu'))"
   ]
  },
  {
   "cell_type": "markdown",
   "metadata": {
    "colab_type": "text",
    "id": "OyNEe6RXYcU4"
   },
   "source": [
    "### Adding the output layer"
   ]
  },
  {
   "cell_type": "code",
   "execution_count": 18,
   "metadata": {
    "colab": {},
    "colab_type": "code",
    "id": "Cn3x41RBYfvY"
   },
   "outputs": [],
   "source": [
    "ann.add(tf.keras.layers.Dense(units=1, activation='sigmoid'))"
   ]
  },
  {
   "cell_type": "markdown",
   "metadata": {
    "colab_type": "text",
    "id": "JT4u2S1_Y4WG"
   },
   "source": [
    "## Part 3 - Training the ANN"
   ]
  },
  {
   "cell_type": "markdown",
   "metadata": {},
   "source": [
    "- Adam is an optimization algorithm that can be used instead of the classical stochastic gradient descent procedure to update network weights iterative based in training data.\n",
    "\n",
    "\n",
    "\n",
    "- Binary crossentropy is a loss function that is used in binary classification tasks. These are tasks that answer a question with only two choices (yes or no, A or B, 0 or 1, left or right)."
   ]
  },
  {
   "cell_type": "markdown",
   "metadata": {
    "colab_type": "text",
    "id": "8GWlJChhY_ZI"
   },
   "source": [
    "### Compiling the ANN"
   ]
  },
  {
   "cell_type": "code",
   "execution_count": 19,
   "metadata": {
    "colab": {},
    "colab_type": "code",
    "id": "fG3RrwDXZEaS"
   },
   "outputs": [],
   "source": [
    "ann.compile(optimizer = 'adam', loss = 'binary_crossentropy', metrics = ['accuracy'])"
   ]
  },
  {
   "cell_type": "markdown",
   "metadata": {},
   "source": [
    "- The batch size defines the number of samples that will be propagated through the network.\n",
    "\n",
    "\n",
    "- For instance, let's say you have 1050 training samples and you want to set up a batch_size equal to 100. The algorithm takes the first 100 samples (from 1st to 100th) from the training dataset and trains the network. Next, it takes the second 100 samples (from 101st to 200th) and trains the network again. \n",
    "\n",
    "\n",
    "- The number of epochs is a hyperparameter that defines the number times that the learning algorithm will work through the entire training dataset. One epoch means that each sample in the training dataset has had an opportunity to update the internal model parameters. "
   ]
  },
  {
   "cell_type": "markdown",
   "metadata": {
    "colab_type": "text",
    "id": "0QR_G5u7ZLSM"
   },
   "source": [
    "### Training the ANN on the Training set"
   ]
  },
  {
   "cell_type": "code",
   "execution_count": 20,
   "metadata": {
    "colab": {
     "base_uri": "https://localhost:8080/",
     "height": 1000
    },
    "colab_type": "code",
    "id": "nHZ-LKv_ZRb3",
    "outputId": "718cc4b0-b5aa-40f0-9b20-d3d31730a531"
   },
   "outputs": [
    {
     "name": "stdout",
     "output_type": "stream",
     "text": [
      "Epoch 1/100\n",
      "250/250 [==============================] - 0s 668us/step - loss: 0.4763 - accuracy: 0.7952\n",
      "Epoch 2/100\n",
      "250/250 [==============================] - 0s 703us/step - loss: 0.4470 - accuracy: 0.7965\n",
      "Epoch 3/100\n",
      "250/250 [==============================] - 0s 671us/step - loss: 0.4371 - accuracy: 0.7996\n",
      "Epoch 4/100\n",
      "250/250 [==============================] - 0s 686us/step - loss: 0.4289 - accuracy: 0.8024\n",
      "Epoch 5/100\n",
      "250/250 [==============================] - 0s 659us/step - loss: 0.4211 - accuracy: 0.8073\n",
      "Epoch 6/100\n",
      "250/250 [==============================] - 0s 680us/step - loss: 0.4144 - accuracy: 0.8136\n",
      "Epoch 7/100\n",
      "250/250 [==============================] - 0s 651us/step - loss: 0.4090 - accuracy: 0.8179\n",
      "Epoch 8/100\n",
      "250/250 [==============================] - 0s 679us/step - loss: 0.4049 - accuracy: 0.8205\n",
      "Epoch 9/100\n",
      "250/250 [==============================] - 0s 678us/step - loss: 0.4014 - accuracy: 0.8215\n",
      "Epoch 10/100\n",
      "250/250 [==============================] - 0s 667us/step - loss: 0.3982 - accuracy: 0.8229\n",
      "Epoch 11/100\n",
      "250/250 [==============================] - 0s 697us/step - loss: 0.3945 - accuracy: 0.8230\n",
      "Epoch 12/100\n",
      "250/250 [==============================] - 0s 684us/step - loss: 0.3908 - accuracy: 0.8240\n",
      "Epoch 13/100\n",
      "250/250 [==============================] - 0s 664us/step - loss: 0.3864 - accuracy: 0.8270\n",
      "Epoch 14/100\n",
      "250/250 [==============================] - 0s 726us/step - loss: 0.3824 - accuracy: 0.82790s - loss: 0.3782 - accuracy: 0.\n",
      "Epoch 15/100\n",
      "250/250 [==============================] - 0s 2ms/step - loss: 0.3790 - accuracy: 0.8314\n",
      "Epoch 16/100\n",
      "250/250 [==============================] - 0s 2ms/step - loss: 0.3759 - accuracy: 0.8400\n",
      "Epoch 17/100\n",
      "250/250 [==============================] - 0s 1ms/step - loss: 0.3728 - accuracy: 0.8416\n",
      "Epoch 18/100\n",
      "250/250 [==============================] - 0s 1ms/step - loss: 0.3700 - accuracy: 0.8439\n",
      "Epoch 19/100\n",
      "250/250 [==============================] - 0s 1ms/step - loss: 0.3673 - accuracy: 0.8451\n",
      "Epoch 20/100\n",
      "250/250 [==============================] - 0s 2ms/step - loss: 0.3657 - accuracy: 0.8453\n",
      "Epoch 21/100\n",
      "250/250 [==============================] - 0s 746us/step - loss: 0.3635 - accuracy: 0.8486\n",
      "Epoch 22/100\n",
      "250/250 [==============================] - 0s 645us/step - loss: 0.3622 - accuracy: 0.8490\n",
      "Epoch 23/100\n",
      "250/250 [==============================] - 0s 675us/step - loss: 0.3602 - accuracy: 0.8489\n",
      "Epoch 24/100\n",
      "250/250 [==============================] - 0s 657us/step - loss: 0.3583 - accuracy: 0.8490\n",
      "Epoch 25/100\n",
      "250/250 [==============================] - 0s 640us/step - loss: 0.3572 - accuracy: 0.8490\n",
      "Epoch 26/100\n",
      "250/250 [==============================] - 0s 676us/step - loss: 0.3560 - accuracy: 0.8508\n",
      "Epoch 27/100\n",
      "250/250 [==============================] - 0s 641us/step - loss: 0.3545 - accuracy: 0.8518\n",
      "Epoch 28/100\n",
      "250/250 [==============================] - 0s 667us/step - loss: 0.3540 - accuracy: 0.8495\n",
      "Epoch 29/100\n",
      "250/250 [==============================] - 0s 651us/step - loss: 0.3528 - accuracy: 0.8521\n",
      "Epoch 30/100\n",
      "250/250 [==============================] - 0s 675us/step - loss: 0.3516 - accuracy: 0.8528\n",
      "Epoch 31/100\n",
      "250/250 [==============================] - 0s 645us/step - loss: 0.3508 - accuracy: 0.8530\n",
      "Epoch 32/100\n",
      "250/250 [==============================] - 0s 639us/step - loss: 0.3508 - accuracy: 0.8547\n",
      "Epoch 33/100\n",
      "250/250 [==============================] - 0s 668us/step - loss: 0.3489 - accuracy: 0.8540\n",
      "Epoch 34/100\n",
      "250/250 [==============================] - ETA: 0s - loss: 0.3470 - accuracy: 0.85 - 0s 671us/step - loss: 0.3485 - accuracy: 0.8558\n",
      "Epoch 35/100\n",
      "250/250 [==============================] - ETA: 0s - loss: 0.3497 - accuracy: 0.85 - 0s 653us/step - loss: 0.3478 - accuracy: 0.8568\n",
      "Epoch 36/100\n",
      "250/250 [==============================] - 0s 695us/step - loss: 0.3470 - accuracy: 0.8555\n",
      "Epoch 37/100\n",
      "250/250 [==============================] - 0s 672us/step - loss: 0.3466 - accuracy: 0.8554\n",
      "Epoch 38/100\n",
      "250/250 [==============================] - 0s 653us/step - loss: 0.3459 - accuracy: 0.8566\n",
      "Epoch 39/100\n",
      "250/250 [==============================] - 0s 676us/step - loss: 0.3456 - accuracy: 0.8560\n",
      "Epoch 40/100\n",
      "250/250 [==============================] - 0s 655us/step - loss: 0.3450 - accuracy: 0.8581\n",
      "Epoch 41/100\n",
      "250/250 [==============================] - 0s 1ms/step - loss: 0.3442 - accuracy: 0.8568\n",
      "Epoch 42/100\n",
      "250/250 [==============================] - 0s 1ms/step - loss: 0.3437 - accuracy: 0.8576\n",
      "Epoch 43/100\n",
      "250/250 [==============================] - 0s 1ms/step - loss: 0.3438 - accuracy: 0.8596\n",
      "Epoch 44/100\n",
      "250/250 [==============================] - 0s 1ms/step - loss: 0.3434 - accuracy: 0.8576\n",
      "Epoch 45/100\n",
      "250/250 [==============================] - 0s 1ms/step - loss: 0.3433 - accuracy: 0.8581\n",
      "Epoch 46/100\n",
      "250/250 [==============================] - 0s 1ms/step - loss: 0.3422 - accuracy: 0.8605\n",
      "Epoch 47/100\n",
      "250/250 [==============================] - 0s 1ms/step - loss: 0.3433 - accuracy: 0.8572\n",
      "Epoch 48/100\n",
      "250/250 [==============================] - 0s 661us/step - loss: 0.3422 - accuracy: 0.8585\n",
      "Epoch 49/100\n",
      "250/250 [==============================] - 0s 639us/step - loss: 0.3421 - accuracy: 0.8589\n",
      "Epoch 50/100\n",
      "250/250 [==============================] - 0s 647us/step - loss: 0.3415 - accuracy: 0.8584\n",
      "Epoch 51/100\n",
      "250/250 [==============================] - 0s 640us/step - loss: 0.3418 - accuracy: 0.8602\n",
      "Epoch 52/100\n",
      "250/250 [==============================] - 0s 670us/step - loss: 0.3407 - accuracy: 0.8608\n",
      "Epoch 53/100\n",
      "250/250 [==============================] - 0s 642us/step - loss: 0.3411 - accuracy: 0.8596\n",
      "Epoch 54/100\n",
      "250/250 [==============================] - 0s 651us/step - loss: 0.3409 - accuracy: 0.8580\n",
      "Epoch 55/100\n",
      "250/250 [==============================] - ETA: 0s - loss: 0.3381 - accuracy: 0.85 - 0s 658us/step - loss: 0.3406 - accuracy: 0.8566\n",
      "Epoch 56/100\n",
      "250/250 [==============================] - 0s 632us/step - loss: 0.3413 - accuracy: 0.8587\n",
      "Epoch 57/100\n",
      "250/250 [==============================] - 0s 665us/step - loss: 0.3401 - accuracy: 0.8587\n",
      "Epoch 58/100\n",
      "250/250 [==============================] - 0s 653us/step - loss: 0.3410 - accuracy: 0.8585\n",
      "Epoch 59/100\n",
      "250/250 [==============================] - 0s 617us/step - loss: 0.3396 - accuracy: 0.8606\n",
      "Epoch 60/100\n",
      "250/250 [==============================] - 0s 646us/step - loss: 0.3398 - accuracy: 0.8606\n",
      "Epoch 61/100\n",
      "250/250 [==============================] - 0s 644us/step - loss: 0.3399 - accuracy: 0.8585\n",
      "Epoch 62/100\n",
      "250/250 [==============================] - 0s 682us/step - loss: 0.3397 - accuracy: 0.8615\n",
      "Epoch 63/100\n",
      "250/250 [==============================] - 0s 639us/step - loss: 0.3396 - accuracy: 0.8605\n",
      "Epoch 64/100\n",
      "250/250 [==============================] - 0s 682us/step - loss: 0.3395 - accuracy: 0.8606\n",
      "Epoch 65/100\n",
      "250/250 [==============================] - 0s 638us/step - loss: 0.3391 - accuracy: 0.8584\n",
      "Epoch 66/100\n",
      "250/250 [==============================] - 0s 629us/step - loss: 0.3391 - accuracy: 0.8606\n",
      "Epoch 67/100\n",
      "250/250 [==============================] - 0s 649us/step - loss: 0.3389 - accuracy: 0.8602\n",
      "Epoch 68/100\n",
      "250/250 [==============================] - 0s 1ms/step - loss: 0.3383 - accuracy: 0.8610\n",
      "Epoch 69/100\n",
      "250/250 [==============================] - 0s 1ms/step - loss: 0.3386 - accuracy: 0.8610\n",
      "Epoch 70/100\n",
      "250/250 [==============================] - 0s 1ms/step - loss: 0.3386 - accuracy: 0.8626\n",
      "Epoch 71/100\n",
      "250/250 [==============================] - 0s 1ms/step - loss: 0.3382 - accuracy: 0.8585\n",
      "Epoch 72/100\n",
      "250/250 [==============================] - 0s 1ms/step - loss: 0.3381 - accuracy: 0.8595\n",
      "Epoch 73/100\n",
      "250/250 [==============================] - 0s 1ms/step - loss: 0.3387 - accuracy: 0.8591\n",
      "Epoch 74/100\n",
      "250/250 [==============================] - 0s 1ms/step - loss: 0.3379 - accuracy: 0.8602\n",
      "Epoch 75/100\n",
      "250/250 [==============================] - 0s 631us/step - loss: 0.3379 - accuracy: 0.8609\n",
      "Epoch 76/100\n",
      "250/250 [==============================] - 0s 680us/step - loss: 0.3381 - accuracy: 0.8601\n",
      "Epoch 77/100\n",
      "250/250 [==============================] - 0s 664us/step - loss: 0.3381 - accuracy: 0.8612\n",
      "Epoch 78/100\n",
      "250/250 [==============================] - 0s 637us/step - loss: 0.3373 - accuracy: 0.8602\n",
      "Epoch 79/100\n",
      "250/250 [==============================] - 0s 627us/step - loss: 0.3381 - accuracy: 0.8621\n",
      "Epoch 80/100\n",
      "250/250 [==============================] - 0s 639us/step - loss: 0.3381 - accuracy: 0.8599\n",
      "Epoch 81/100\n",
      "250/250 [==============================] - 0s 679us/step - loss: 0.3374 - accuracy: 0.8616\n",
      "Epoch 82/100\n",
      "250/250 [==============================] - 0s 693us/step - loss: 0.3379 - accuracy: 0.8594\n",
      "Epoch 83/100\n",
      "250/250 [==============================] - 0s 625us/step - loss: 0.3381 - accuracy: 0.8593\n",
      "Epoch 84/100\n",
      "250/250 [==============================] - 0s 613us/step - loss: 0.3375 - accuracy: 0.8605\n",
      "Epoch 85/100\n",
      "250/250 [==============================] - 0s 673us/step - loss: 0.3373 - accuracy: 0.8595\n",
      "Epoch 86/100\n",
      "250/250 [==============================] - 0s 624us/step - loss: 0.3375 - accuracy: 0.8605\n",
      "Epoch 87/100\n",
      "250/250 [==============================] - 0s 618us/step - loss: 0.3374 - accuracy: 0.8610\n",
      "Epoch 88/100\n",
      "250/250 [==============================] - 0s 636us/step - loss: 0.3375 - accuracy: 0.8614\n",
      "Epoch 89/100\n",
      "250/250 [==============================] - 0s 647us/step - loss: 0.3377 - accuracy: 0.8604\n",
      "Epoch 90/100\n",
      "250/250 [==============================] - 0s 686us/step - loss: 0.3372 - accuracy: 0.8610\n",
      "Epoch 91/100\n",
      "250/250 [==============================] - 0s 669us/step - loss: 0.3374 - accuracy: 0.8611\n",
      "Epoch 92/100\n",
      "250/250 [==============================] - 0s 625us/step - loss: 0.3372 - accuracy: 0.8601\n",
      "Epoch 93/100\n",
      "250/250 [==============================] - 0s 627us/step - loss: 0.3376 - accuracy: 0.8610\n",
      "Epoch 94/100\n",
      "250/250 [==============================] - 0s 671us/step - loss: 0.3364 - accuracy: 0.8610\n",
      "Epoch 95/100\n",
      "250/250 [==============================] - 0s 1ms/step - loss: 0.3374 - accuracy: 0.8624\n",
      "Epoch 96/100\n",
      "250/250 [==============================] - 0s 1ms/step - loss: 0.3370 - accuracy: 0.8597\n",
      "Epoch 97/100\n",
      "250/250 [==============================] - 0s 1ms/step - loss: 0.3373 - accuracy: 0.8600\n",
      "Epoch 98/100\n",
      "250/250 [==============================] - 0s 1ms/step - loss: 0.3372 - accuracy: 0.8595\n",
      "Epoch 99/100\n",
      "250/250 [==============================] - 0s 1ms/step - loss: 0.3371 - accuracy: 0.8593\n",
      "Epoch 100/100\n",
      "250/250 [==============================] - 0s 1ms/step - loss: 0.3366 - accuracy: 0.8601\n"
     ]
    },
    {
     "data": {
      "text/plain": [
       "<tensorflow.python.keras.callbacks.History at 0x19c42532a00>"
      ]
     },
     "execution_count": 20,
     "metadata": {},
     "output_type": "execute_result"
    }
   ],
   "source": [
    "ann.fit(X_train, y_train, batch_size = 32, epochs = 100)"
   ]
  },
  {
   "cell_type": "markdown",
   "metadata": {
    "colab_type": "text",
    "id": "tJj5k2MxZga3"
   },
   "source": [
    "## Part 4 - Making the predictions and evaluating the model"
   ]
  },
  {
   "cell_type": "markdown",
   "metadata": {
    "colab_type": "text",
    "id": "84QFoqGYeXHL"
   },
   "source": [
    "### Predicting the result of a single observation"
   ]
  },
  {
   "cell_type": "markdown",
   "metadata": {
    "colab_type": "text",
    "id": "CGRo3eacgDdC"
   },
   "source": [
    "**Homework**\n",
    "\n",
    "Use our ANN model to predict if the customer with the following informations will leave the bank: \n",
    "\n",
    "Geography: France\n",
    "\n",
    "Credit Score: 600\n",
    "\n",
    "Gender: Male\n",
    "\n",
    "Age: 40 years old\n",
    "\n",
    "Tenure: 3 years\n",
    "\n",
    "Balance: \\$ 60000\n",
    "\n",
    "Number of Products: 2\n",
    "\n",
    "Does this customer have a credit card ? Yes\n",
    "\n",
    "Is this customer an Active Member: Yes\n",
    "\n",
    "Estimated Salary: \\$ 50000\n",
    "\n",
    "So, should we say goodbye to that customer ?"
   ]
  },
  {
   "cell_type": "markdown",
   "metadata": {
    "colab_type": "text",
    "id": "ZhU1LTgPg-kH"
   },
   "source": [
    "**Solution**"
   ]
  },
  {
   "cell_type": "code",
   "execution_count": 21,
   "metadata": {
    "colab": {
     "base_uri": "https://localhost:8080/",
     "height": 34
    },
    "colab_type": "code",
    "id": "2d8IoCCkeWGL",
    "outputId": "957f3970-e197-4c3b-a150-7f69dc567f5d"
   },
   "outputs": [
    {
     "name": "stdout",
     "output_type": "stream",
     "text": [
      "[[False]]\n"
     ]
    }
   ],
   "source": [
    "print(ann.predict(sc.transform([[1, 0, 0, 600, 1, 40, 3, 60000, 2, 1, 1, 50000]])) > 0.5)"
   ]
  },
  {
   "cell_type": "markdown",
   "metadata": {
    "colab_type": "text",
    "id": "wGjx94g2n7OV"
   },
   "source": [
    "Therefore, our ANN model predicts that this customer stays in the bank!\n",
    "\n",
    "**Important note 1:** Notice that the values of the features were all input in a double pair of square brackets. That's because the \"predict\" method always expects a 2D array as the format of its inputs. And putting our values into a double pair of square brackets makes the input exactly a 2D array.\n",
    "\n",
    "**Important note 2:** Notice also that the \"France\" country was not input as a string in the last column but as \"1, 0, 0\" in the first three columns. That's because of course the predict method expects the one-hot-encoded values of the state, and as we see in the first row of the matrix of features X, \"France\" was encoded as \"1, 0, 0\". And be careful to include these values in the first three columns, because the dummy variables are always created in the first columns."
   ]
  },
  {
   "cell_type": "markdown",
   "metadata": {
    "colab_type": "text",
    "id": "u7yx47jPZt11"
   },
   "source": [
    "### Predicting the Test set results"
   ]
  },
  {
   "cell_type": "code",
   "execution_count": 22,
   "metadata": {
    "colab": {
     "base_uri": "https://localhost:8080/",
     "height": 137
    },
    "colab_type": "code",
    "id": "nIyEeQdRZwgs",
    "outputId": "82330ba8-9bdc-4fd1-d3cf-b6d78ee7c2a3"
   },
   "outputs": [
    {
     "name": "stdout",
     "output_type": "stream",
     "text": [
      "[[0 0]\n",
      " [0 1]\n",
      " [0 0]\n",
      " ...\n",
      " [0 0]\n",
      " [0 0]\n",
      " [0 0]]\n"
     ]
    }
   ],
   "source": [
    "y_pred = ann.predict(X_test)\n",
    "y_pred = (y_pred > 0.5)\n",
    "print(np.concatenate((y_pred.reshape(len(y_pred),1), y_test.reshape(len(y_test),1)),1))"
   ]
  },
  {
   "cell_type": "markdown",
   "metadata": {
    "colab_type": "text",
    "id": "o0oyfLWoaEGw"
   },
   "source": [
    "### Making the Confusion Matrix"
   ]
  },
  {
   "cell_type": "code",
   "execution_count": 23,
   "metadata": {
    "colab": {
     "base_uri": "https://localhost:8080/",
     "height": 68
    },
    "colab_type": "code",
    "id": "ci6K_r6LaF6P",
    "outputId": "4d854e9e-22d5-432f-f6e5-a102fe3ae0bd"
   },
   "outputs": [
    {
     "name": "stdout",
     "output_type": "stream",
     "text": [
      "[[1507   88]\n",
      " [ 191  214]]\n"
     ]
    },
    {
     "data": {
      "text/plain": [
       "0.8605"
      ]
     },
     "execution_count": 23,
     "metadata": {},
     "output_type": "execute_result"
    }
   ],
   "source": [
    "from sklearn.metrics import confusion_matrix, accuracy_score\n",
    "cm = confusion_matrix(y_test, y_pred)\n",
    "print(cm)\n",
    "accuracy_score(y_test, y_pred)"
   ]
  }
 ],
 "metadata": {
  "colab": {
   "collapsed_sections": [],
   "name": "artificial_neural_network.ipynb",
   "provenance": [],
   "toc_visible": true
  },
  "kernelspec": {
   "display_name": "Python 3",
   "language": "python",
   "name": "python3"
  },
  "language_info": {
   "codemirror_mode": {
    "name": "ipython",
    "version": 3
   },
   "file_extension": ".py",
   "mimetype": "text/x-python",
   "name": "python",
   "nbconvert_exporter": "python",
   "pygments_lexer": "ipython3",
   "version": "3.8.5"
  }
 },
 "nbformat": 4,
 "nbformat_minor": 1
}
